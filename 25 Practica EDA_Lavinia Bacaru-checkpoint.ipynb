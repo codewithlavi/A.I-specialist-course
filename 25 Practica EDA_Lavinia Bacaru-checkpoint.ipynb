{
 "cells": [
  {
   "cell_type": "markdown",
   "id": "a2157ace-5379-459b-8889-569ffe816625",
   "metadata": {},
   "source": [
    "# Práctica: Exploración de Datos (EDA)"
   ]
  },
  {
   "cell_type": "code",
   "execution_count": null,
   "id": "ab374774-c5e5-4fbf-8b3d-6c521a82344b",
   "metadata": {},
   "outputs": [],
   "source": [
    "alumna :Lavinia-Cristiana Bacaru "
   ]
  },
  {
   "cell_type": "markdown",
   "id": "665ec250-af9e-4c91-baa3-d2cc38748dfd",
   "metadata": {},
   "source": [
    "## Objetivo"
   ]
  },
  {
   "cell_type": "markdown",
   "id": "56106864-4e37-4e46-af0f-32f35a5db419",
   "metadata": {},
   "source": [
    "Aprender a realizar un análisis exploratorio de datos usando Pandas, Matplotlib y Seaborn."
   ]
  },
  {
   "cell_type": "markdown",
   "id": "2958a018-6ac5-4de5-9279-2f7468f058f0",
   "metadata": {},
   "source": [
    "## Importar librerías"
   ]
  },
  {
   "cell_type": "code",
   "execution_count": 63,
   "id": "9ff3d8f2-2d51-4e24-837c-3cfd3ee9a869",
   "metadata": {},
   "outputs": [],
   "source": [
    "import pandas as pd, numpy as np, matplotlib.pyplot as plt\n",
    "import seaborn as sns\n"
   ]
  },
  {
   "cell_type": "markdown",
   "id": "9293e012-58ca-42b7-b80c-9dea61b4935b",
   "metadata": {},
   "source": [
    "## 1. Carga de Datos"
   ]
  },
  {
   "cell_type": "markdown",
   "id": "a2e97d3a-1b6f-4738-b39d-a36bbaf095ef",
   "metadata": {},
   "source": [
    "Cargar el fichero ventas.csv"
   ]
  },
  {
   "cell_type": "code",
   "execution_count": 3,
   "id": "0b9e36d7-f72e-4226-9874-3c4eee70a9bf",
   "metadata": {},
   "outputs": [
    {
     "data": {
      "text/html": [
       "<div>\n",
       "<style scoped>\n",
       "    .dataframe tbody tr th:only-of-type {\n",
       "        vertical-align: middle;\n",
       "    }\n",
       "\n",
       "    .dataframe tbody tr th {\n",
       "        vertical-align: top;\n",
       "    }\n",
       "\n",
       "    .dataframe thead th {\n",
       "        text-align: right;\n",
       "    }\n",
       "</style>\n",
       "<table border=\"1\" class=\"dataframe\">\n",
       "  <thead>\n",
       "    <tr style=\"text-align: right;\">\n",
       "      <th></th>\n",
       "      <th>producto</th>\n",
       "      <th>categoria</th>\n",
       "      <th>precio</th>\n",
       "      <th>ventas</th>\n",
       "      <th>descuento</th>\n",
       "    </tr>\n",
       "  </thead>\n",
       "  <tbody>\n",
       "    <tr>\n",
       "      <th>0</th>\n",
       "      <td>Producto_1</td>\n",
       "      <td>Juguetes</td>\n",
       "      <td>457.91</td>\n",
       "      <td>276</td>\n",
       "      <td>5.0</td>\n",
       "    </tr>\n",
       "    <tr>\n",
       "      <th>1</th>\n",
       "      <td>Producto_2</td>\n",
       "      <td>Deportes</td>\n",
       "      <td>425.77</td>\n",
       "      <td>485</td>\n",
       "      <td>15.0</td>\n",
       "    </tr>\n",
       "    <tr>\n",
       "      <th>2</th>\n",
       "      <td>Producto_3</td>\n",
       "      <td>Hogar</td>\n",
       "      <td>227.48</td>\n",
       "      <td>450</td>\n",
       "      <td>0.0</td>\n",
       "    </tr>\n",
       "    <tr>\n",
       "      <th>3</th>\n",
       "      <td>Producto_4</td>\n",
       "      <td>Deportes</td>\n",
       "      <td>52.23</td>\n",
       "      <td>482</td>\n",
       "      <td>0.0</td>\n",
       "    </tr>\n",
       "    <tr>\n",
       "      <th>4</th>\n",
       "      <td>Producto_5</td>\n",
       "      <td>Deportes</td>\n",
       "      <td>188.56</td>\n",
       "      <td>443</td>\n",
       "      <td>0.0</td>\n",
       "    </tr>\n",
       "    <tr>\n",
       "      <th>...</th>\n",
       "      <td>...</td>\n",
       "      <td>...</td>\n",
       "      <td>...</td>\n",
       "      <td>...</td>\n",
       "      <td>...</td>\n",
       "    </tr>\n",
       "    <tr>\n",
       "      <th>95</th>\n",
       "      <td>Producto_96</td>\n",
       "      <td>Hogar</td>\n",
       "      <td>52.61</td>\n",
       "      <td>235</td>\n",
       "      <td>10.0</td>\n",
       "    </tr>\n",
       "    <tr>\n",
       "      <th>96</th>\n",
       "      <td>Producto_97</td>\n",
       "      <td>Deportes</td>\n",
       "      <td>470.56</td>\n",
       "      <td>286</td>\n",
       "      <td>0.0</td>\n",
       "    </tr>\n",
       "    <tr>\n",
       "      <th>97</th>\n",
       "      <td>Producto_98</td>\n",
       "      <td>Ropa</td>\n",
       "      <td>201.80</td>\n",
       "      <td>295</td>\n",
       "      <td>0.0</td>\n",
       "    </tr>\n",
       "    <tr>\n",
       "      <th>98</th>\n",
       "      <td>Producto_99</td>\n",
       "      <td>Ropa</td>\n",
       "      <td>261.29</td>\n",
       "      <td>106</td>\n",
       "      <td>0.0</td>\n",
       "    </tr>\n",
       "    <tr>\n",
       "      <th>99</th>\n",
       "      <td>Producto_100</td>\n",
       "      <td>Electrónica</td>\n",
       "      <td>419.67</td>\n",
       "      <td>293</td>\n",
       "      <td>0.0</td>\n",
       "    </tr>\n",
       "  </tbody>\n",
       "</table>\n",
       "<p>100 rows × 5 columns</p>\n",
       "</div>"
      ],
      "text/plain": [
       "        producto    categoria  precio  ventas  descuento\n",
       "0     Producto_1     Juguetes  457.91     276        5.0\n",
       "1     Producto_2     Deportes  425.77     485       15.0\n",
       "2     Producto_3        Hogar  227.48     450        0.0\n",
       "3     Producto_4     Deportes   52.23     482        0.0\n",
       "4     Producto_5     Deportes  188.56     443        0.0\n",
       "..           ...          ...     ...     ...        ...\n",
       "95   Producto_96        Hogar   52.61     235       10.0\n",
       "96   Producto_97     Deportes  470.56     286        0.0\n",
       "97   Producto_98         Ropa  201.80     295        0.0\n",
       "98   Producto_99         Ropa  261.29     106        0.0\n",
       "99  Producto_100  Electrónica  419.67     293        0.0\n",
       "\n",
       "[100 rows x 5 columns]"
      ]
     },
     "execution_count": 3,
     "metadata": {},
     "output_type": "execute_result"
    }
   ],
   "source": [
    "df = pd.read_csv(\"files/ventas.csv\")\n",
    "df"
   ]
  },
  {
   "cell_type": "markdown",
   "id": "37f7f9b0-bac7-40d3-ac6d-6db061e989f7",
   "metadata": {},
   "source": [
    "Comprobar que el dataframe se ha cargado y contiene datos"
   ]
  },
  {
   "cell_type": "code",
   "execution_count": 5,
   "id": "524768b0-598a-409d-968b-3eb5612486de",
   "metadata": {},
   "outputs": [
    {
     "data": {
      "text/html": [
       "<div>\n",
       "<style scoped>\n",
       "    .dataframe tbody tr th:only-of-type {\n",
       "        vertical-align: middle;\n",
       "    }\n",
       "\n",
       "    .dataframe tbody tr th {\n",
       "        vertical-align: top;\n",
       "    }\n",
       "\n",
       "    .dataframe thead th {\n",
       "        text-align: right;\n",
       "    }\n",
       "</style>\n",
       "<table border=\"1\" class=\"dataframe\">\n",
       "  <thead>\n",
       "    <tr style=\"text-align: right;\">\n",
       "      <th></th>\n",
       "      <th>producto</th>\n",
       "      <th>categoria</th>\n",
       "      <th>precio</th>\n",
       "      <th>ventas</th>\n",
       "      <th>descuento</th>\n",
       "    </tr>\n",
       "  </thead>\n",
       "  <tbody>\n",
       "    <tr>\n",
       "      <th>0</th>\n",
       "      <td>Producto_1</td>\n",
       "      <td>Juguetes</td>\n",
       "      <td>457.91</td>\n",
       "      <td>276</td>\n",
       "      <td>5.0</td>\n",
       "    </tr>\n",
       "    <tr>\n",
       "      <th>1</th>\n",
       "      <td>Producto_2</td>\n",
       "      <td>Deportes</td>\n",
       "      <td>425.77</td>\n",
       "      <td>485</td>\n",
       "      <td>15.0</td>\n",
       "    </tr>\n",
       "    <tr>\n",
       "      <th>2</th>\n",
       "      <td>Producto_3</td>\n",
       "      <td>Hogar</td>\n",
       "      <td>227.48</td>\n",
       "      <td>450</td>\n",
       "      <td>0.0</td>\n",
       "    </tr>\n",
       "    <tr>\n",
       "      <th>3</th>\n",
       "      <td>Producto_4</td>\n",
       "      <td>Deportes</td>\n",
       "      <td>52.23</td>\n",
       "      <td>482</td>\n",
       "      <td>0.0</td>\n",
       "    </tr>\n",
       "    <tr>\n",
       "      <th>4</th>\n",
       "      <td>Producto_5</td>\n",
       "      <td>Deportes</td>\n",
       "      <td>188.56</td>\n",
       "      <td>443</td>\n",
       "      <td>0.0</td>\n",
       "    </tr>\n",
       "  </tbody>\n",
       "</table>\n",
       "</div>"
      ],
      "text/plain": [
       "     producto categoria  precio  ventas  descuento\n",
       "0  Producto_1  Juguetes  457.91     276        5.0\n",
       "1  Producto_2  Deportes  425.77     485       15.0\n",
       "2  Producto_3     Hogar  227.48     450        0.0\n",
       "3  Producto_4  Deportes   52.23     482        0.0\n",
       "4  Producto_5  Deportes  188.56     443        0.0"
      ]
     },
     "execution_count": 5,
     "metadata": {},
     "output_type": "execute_result"
    }
   ],
   "source": [
    "df.head()"
   ]
  },
  {
   "cell_type": "markdown",
   "id": "bc67e1b4-563e-451e-93ca-99366f30f41b",
   "metadata": {},
   "source": [
    "Imprimir los nombres de las columnas"
   ]
  },
  {
   "cell_type": "code",
   "execution_count": 9,
   "id": "3653f28c-5f11-453b-a345-fd6f1f9ff7cb",
   "metadata": {},
   "outputs": [
    {
     "name": "stdout",
     "output_type": "stream",
     "text": [
      "<class 'pandas.core.frame.DataFrame'>\n",
      "RangeIndex: 100 entries, 0 to 99\n",
      "Data columns (total 5 columns):\n",
      " #   Column     Non-Null Count  Dtype  \n",
      "---  ------     --------------  -----  \n",
      " 0   producto   100 non-null    object \n",
      " 1   categoria  100 non-null    object \n",
      " 2   precio     100 non-null    float64\n",
      " 3   ventas     100 non-null    int64  \n",
      " 4   descuento  91 non-null     float64\n",
      "dtypes: float64(2), int64(1), object(2)\n",
      "memory usage: 4.0+ KB\n"
     ]
    },
    {
     "data": {
      "text/plain": [
       "Index(['producto', 'categoria', 'precio', 'ventas', 'descuento'], dtype='object')"
      ]
     },
     "execution_count": 9,
     "metadata": {},
     "output_type": "execute_result"
    }
   ],
   "source": [
    "df.info()\n",
    "df.columns"
   ]
  },
  {
   "cell_type": "markdown",
   "id": "5134219a-694f-4557-af8f-44c5af29f2a6",
   "metadata": {},
   "source": [
    "### 2. Análisis de Datos"
   ]
  },
  {
   "cell_type": "markdown",
   "id": "d8a08d90-de7b-4561-a91c-61de0e4d1a37",
   "metadata": {},
   "source": [
    "1. Verificar valores nulos y tipos de datos."
   ]
  },
  {
   "cell_type": "code",
   "execution_count": 23,
   "id": "d7fcb696-d799-45e5-9091-e2eb74ccc133",
   "metadata": {},
   "outputs": [
    {
     "name": "stdout",
     "output_type": "stream",
     "text": [
      "<class 'pandas.core.frame.DataFrame'>\n",
      "RangeIndex: 100 entries, 0 to 99\n",
      "Data columns (total 5 columns):\n",
      " #   Column     Non-Null Count  Dtype  \n",
      "---  ------     --------------  -----  \n",
      " 0   producto   100 non-null    object \n",
      " 1   categoria  100 non-null    object \n",
      " 2   precio     100 non-null    float64\n",
      " 3   ventas     100 non-null    int64  \n",
      " 4   descuento  91 non-null     float64\n",
      "dtypes: float64(2), int64(1), object(2)\n",
      "memory usage: 4.0+ KB\n",
      "9\n"
     ]
    }
   ],
   "source": [
    "df.info()\n",
    "print(df[\"descuento\"].isna().sum()) "
   ]
  },
  {
   "cell_type": "markdown",
   "id": "7874e06c-b4cd-49da-b7bd-b761741fe65d",
   "metadata": {},
   "source": [
    "2. Obtener estadísticas de las variables numéricas."
   ]
  },
  {
   "cell_type": "code",
   "execution_count": 25,
   "id": "7c91da83-693a-43fc-aa21-4e192b25e390",
   "metadata": {},
   "outputs": [
    {
     "data": {
      "text/html": [
       "<div>\n",
       "<style scoped>\n",
       "    .dataframe tbody tr th:only-of-type {\n",
       "        vertical-align: middle;\n",
       "    }\n",
       "\n",
       "    .dataframe tbody tr th {\n",
       "        vertical-align: top;\n",
       "    }\n",
       "\n",
       "    .dataframe thead th {\n",
       "        text-align: right;\n",
       "    }\n",
       "</style>\n",
       "<table border=\"1\" class=\"dataframe\">\n",
       "  <thead>\n",
       "    <tr style=\"text-align: right;\">\n",
       "      <th></th>\n",
       "      <th>precio</th>\n",
       "      <th>ventas</th>\n",
       "      <th>descuento</th>\n",
       "    </tr>\n",
       "  </thead>\n",
       "  <tbody>\n",
       "    <tr>\n",
       "      <th>count</th>\n",
       "      <td>100.000000</td>\n",
       "      <td>100.000000</td>\n",
       "      <td>91.000000</td>\n",
       "    </tr>\n",
       "    <tr>\n",
       "      <th>mean</th>\n",
       "      <td>245.550900</td>\n",
       "      <td>264.670000</td>\n",
       "      <td>2.637363</td>\n",
       "    </tr>\n",
       "    <tr>\n",
       "      <th>std</th>\n",
       "      <td>134.302232</td>\n",
       "      <td>140.319985</td>\n",
       "      <td>4.963235</td>\n",
       "    </tr>\n",
       "    <tr>\n",
       "      <th>min</th>\n",
       "      <td>5.260000</td>\n",
       "      <td>11.000000</td>\n",
       "      <td>0.000000</td>\n",
       "    </tr>\n",
       "    <tr>\n",
       "      <th>25%</th>\n",
       "      <td>131.485000</td>\n",
       "      <td>147.750000</td>\n",
       "      <td>0.000000</td>\n",
       "    </tr>\n",
       "    <tr>\n",
       "      <th>50%</th>\n",
       "      <td>234.390000</td>\n",
       "      <td>267.500000</td>\n",
       "      <td>0.000000</td>\n",
       "    </tr>\n",
       "    <tr>\n",
       "      <th>75%</th>\n",
       "      <td>349.317500</td>\n",
       "      <td>393.250000</td>\n",
       "      <td>5.000000</td>\n",
       "    </tr>\n",
       "    <tr>\n",
       "      <th>max</th>\n",
       "      <td>498.880000</td>\n",
       "      <td>493.000000</td>\n",
       "      <td>15.000000</td>\n",
       "    </tr>\n",
       "  </tbody>\n",
       "</table>\n",
       "</div>"
      ],
      "text/plain": [
       "           precio      ventas  descuento\n",
       "count  100.000000  100.000000  91.000000\n",
       "mean   245.550900  264.670000   2.637363\n",
       "std    134.302232  140.319985   4.963235\n",
       "min      5.260000   11.000000   0.000000\n",
       "25%    131.485000  147.750000   0.000000\n",
       "50%    234.390000  267.500000   0.000000\n",
       "75%    349.317500  393.250000   5.000000\n",
       "max    498.880000  493.000000  15.000000"
      ]
     },
     "execution_count": 25,
     "metadata": {},
     "output_type": "execute_result"
    }
   ],
   "source": [
    "df.describe()"
   ]
  },
  {
   "cell_type": "markdown",
   "id": "388cea56-b30d-4cbc-9cf1-c9a25a28f54c",
   "metadata": {},
   "source": [
    "3. Contar la cantidad de valores únicos en una columna categórica (`categoría`)."
   ]
  },
  {
   "cell_type": "code",
   "execution_count": 39,
   "id": "348da408-b549-44d8-98bc-09d92d5abce2",
   "metadata": {},
   "outputs": [
    {
     "name": "stdout",
     "output_type": "stream",
     "text": [
      "categoria\n",
      "Juguetes       26\n",
      "Ropa           21\n",
      "Deportes       19\n",
      "Electrónica    18\n",
      "Hogar          16\n",
      "Name: count, dtype: int64\n"
     ]
    },
    {
     "data": {
      "text/plain": [
       "100"
      ]
     },
     "execution_count": 39,
     "metadata": {},
     "output_type": "execute_result"
    }
   ],
   "source": [
    "print(df['categoria'].value_counts())\n",
    "df['categoria'].value_counts().sum()"
   ]
  },
  {
   "cell_type": "markdown",
   "id": "14be6bf1-80e5-4413-8eac-72662d6c9546",
   "metadata": {},
   "source": [
    "## 3. Visualización de Datos"
   ]
  },
  {
   "cell_type": "markdown",
   "id": "9ebef73d-3f17-4271-a8a0-6ba3adbcdfb3",
   "metadata": {},
   "source": [
    "1. Crear un histograma de `precio`."
   ]
  },
  {
   "cell_type": "code",
   "execution_count": 53,
   "id": "4ec3172a-2b9f-4ca4-895e-8e8c1f059cac",
   "metadata": {},
   "outputs": [
    {
     "data": {
      "text/plain": [
       "(array([ 7.,  8., 16., 12., 10., 11., 13.,  4., 11.,  8.]),\n",
       " array([  5.26 ,  54.622, 103.984, 153.346, 202.708, 252.07 , 301.432,\n",
       "        350.794, 400.156, 449.518, 498.88 ]),\n",
       " <BarContainer object of 10 artists>)"
      ]
     },
     "execution_count": 53,
     "metadata": {},
     "output_type": "execute_result"
    },
    {
     "data": {
      "image/png": "[encoded data removed]",
      "text/plain": [
       "<Figure size 640x480 with 1 Axes>"
      ]
     },
     "metadata": {},
     "output_type": "display_data"
    }
   ],
   "source": [
    "#precios_unicos = print(df['precio'].value_counts())\n",
    "#valores, frecuencias = np.unique(temperaturas, return_counts=True)\n",
    "#plt.plot(precios_unicos, frecuencia_precios)\n",
    "\n",
    "#bins=20 hace que se repartan los 100 precios diferente en 20 barras\n",
    "plt.hist(df['precio'], bins=20)   "
   ]
  },
  {
   "cell_type": "markdown",
   "id": "394b14fb-141e-41f5-aa0b-6762908aedcd",
   "metadata": {},
   "source": [
    "2. Generar un gráfico de dispersión entre `precio` y `ventas`."
   ]
  },
  {
   "cell_type": "code",
   "execution_count": 55,
   "id": "0f5273ff-0611-4429-8fbe-ab13214cab99",
   "metadata": {},
   "outputs": [
    {
     "data": {
      "text/plain": [
       "<matplotlib.collections.PathCollection at 0x1a1adab8830>"
      ]
     },
     "execution_count": 55,
     "metadata": {},
     "output_type": "execute_result"
    },
    {
     "data": {
      "image/png": "[encoded data removed]",
      "text/plain": [
       "<Figure size 640x480 with 1 Axes>"
      ]
     },
     "metadata": {},
     "output_type": "display_data"
    }
   ],
   "source": [
    "plt.scatter(df['precio'], df['ventas'])"
   ]
  },
  {
   "cell_type": "code",
   "execution_count": 69,
   "id": "6e4aa0c6-f0c1-42af-b2bc-dad054f080c7",
   "metadata": {},
   "outputs": [
    {
     "data": {
      "image/png": "[encoded data removed]",
      "text/plain": [
       "<Figure size 800x600 with 1 Axes>"
      ]
     },
     "metadata": {},
     "output_type": "display_data"
    }
   ],
   "source": [
    "plt.figure(figsize=(8,6))  #ajusta el tamaño de la figura\n",
    "\n",
    "sns.scatterplot(x=df['precio'], y=df['ventas'])\n",
    "\n",
    "plt.show()"
   ]
  },
  {
   "cell_type": "markdown",
   "id": "c93f1b08-cf9e-4edd-8d89-52fbb5502c24",
   "metadata": {},
   "source": [
    "3. Construir un boxplot para visualizar la distribución de `precio` por `categoría`."
   ]
  },
  {
   "cell_type": "code",
   "execution_count": 91,
   "id": "8001cbad-1138-4fe2-b836-97fecd872763",
   "metadata": {},
   "outputs": [
    {
     "data": {
      "text/plain": [
       "<Axes: xlabel='categoria', ylabel='precio'>"
      ]
     },
     "execution_count": 91,
     "metadata": {},
     "output_type": "execute_result"
    },
    {
     "data": {
      "image/png": "[encoded data removed]",
      "text/plain": [
       "<Figure size 1000x700 with 1 Axes>"
      ]
     },
     "metadata": {},
     "output_type": "display_data"
    }
   ],
   "source": [
    "plt.figure(figsize=(10, 7))\n",
    "sns.boxplot(x=df['categoria'], y=df['precio'],\n",
    "           hue=df['categoria'], palette=\"Set2\", \n",
    "           width=0.6, fliersize=6, linewidth=1.2)\n",
    "#sns.boxplot(x=df['categoria'], y=df['precio'])\n"
   ]
  },
  {
   "cell_type": "markdown",
   "id": "a17249b8-7a66-441d-8493-ad6b4ef27f0f",
   "metadata": {},
   "source": [
    "## 4. Correlaciones"
   ]
  },
  {
   "cell_type": "markdown",
   "id": "8127ad30-ea0d-4bba-a3d1-346e07666916",
   "metadata": {},
   "source": [
    "Calcular y visualizar la matriz de correlación."
   ]
  },
  {
   "cell_type": "code",
   "execution_count": 145,
   "id": "dd8e9f2e-8bd0-4a9b-9698-bed01f4fe083",
   "metadata": {},
   "outputs": [
    {
     "data": {
      "text/html": [
       "<div>\n",
       "<style scoped>\n",
       "    .dataframe tbody tr th:only-of-type {\n",
       "        vertical-align: middle;\n",
       "    }\n",
       "\n",
       "    .dataframe tbody tr th {\n",
       "        vertical-align: top;\n",
       "    }\n",
       "\n",
       "    .dataframe thead th {\n",
       "        text-align: right;\n",
       "    }\n",
       "</style>\n",
       "<table border=\"1\" class=\"dataframe\">\n",
       "  <thead>\n",
       "    <tr style=\"text-align: right;\">\n",
       "      <th></th>\n",
       "      <th>precio</th>\n",
       "      <th>ventas</th>\n",
       "      <th>descuento</th>\n",
       "    </tr>\n",
       "  </thead>\n",
       "  <tbody>\n",
       "    <tr>\n",
       "      <th>precio</th>\n",
       "      <td>1.000000</td>\n",
       "      <td>0.022198</td>\n",
       "      <td>0.118704</td>\n",
       "    </tr>\n",
       "    <tr>\n",
       "      <th>ventas</th>\n",
       "      <td>0.022198</td>\n",
       "      <td>1.000000</td>\n",
       "      <td>0.021386</td>\n",
       "    </tr>\n",
       "    <tr>\n",
       "      <th>descuento</th>\n",
       "      <td>0.118704</td>\n",
       "      <td>0.021386</td>\n",
       "      <td>1.000000</td>\n",
       "    </tr>\n",
       "  </tbody>\n",
       "</table>\n",
       "</div>"
      ],
      "text/plain": [
       "             precio    ventas  descuento\n",
       "precio     1.000000  0.022198   0.118704\n",
       "ventas     0.022198  1.000000   0.021386\n",
       "descuento  0.118704  0.021386   1.000000"
      ]
     },
     "execution_count": 145,
     "metadata": {},
     "output_type": "execute_result"
    }
   ],
   "source": [
    "#Seleccionar solo columnas numéricas para crear la matriz de correlación\n",
    "corr_matrix = df.select_dtypes(include=[\"number\"]).corr()   #esta forma es un select de todas las culumnas numericas (no sirve para columnas categoricas)\n",
    "corr_matrix"
   ]
  },
  {
   "cell_type": "code",
   "execution_count": 141,
   "id": "10a01a76-a6fd-41b3-912f-a0b04e0104b6",
   "metadata": {},
   "outputs": [
    {
     "data": {
      "text/html": [
       "<div>\n",
       "<style scoped>\n",
       "    .dataframe tbody tr th:only-of-type {\n",
       "        vertical-align: middle;\n",
       "    }\n",
       "\n",
       "    .dataframe tbody tr th {\n",
       "        vertical-align: top;\n",
       "    }\n",
       "\n",
       "    .dataframe thead th {\n",
       "        text-align: right;\n",
       "    }\n",
       "</style>\n",
       "<table border=\"1\" class=\"dataframe\">\n",
       "  <thead>\n",
       "    <tr style=\"text-align: right;\">\n",
       "      <th></th>\n",
       "      <th>precio</th>\n",
       "      <th>ventas</th>\n",
       "    </tr>\n",
       "  </thead>\n",
       "  <tbody>\n",
       "    <tr>\n",
       "      <th>precio</th>\n",
       "      <td>1.000000</td>\n",
       "      <td>0.022198</td>\n",
       "    </tr>\n",
       "    <tr>\n",
       "      <th>ventas</th>\n",
       "      <td>0.022198</td>\n",
       "      <td>1.000000</td>\n",
       "    </tr>\n",
       "  </tbody>\n",
       "</table>\n",
       "</div>"
      ],
      "text/plain": [
       "          precio    ventas\n",
       "precio  1.000000  0.022198\n",
       "ventas  0.022198  1.000000"
      ]
     },
     "execution_count": 141,
     "metadata": {},
     "output_type": "execute_result"
    }
   ],
   "source": [
    "#Seleccionar solo columnas numéricas para crear la matriz de correlación\n",
    "corr_matrix2 = df[['precio','ventas']].corr()\n",
    "corr_matrix2"
   ]
  },
  {
   "cell_type": "code",
   "execution_count": 143,
   "id": "6fe27490-7d7f-436c-bdff-8af0af6137ac",
   "metadata": {},
   "outputs": [
    {
     "data": {
      "text/plain": [
       "<Axes: >"
      ]
     },
     "execution_count": 143,
     "metadata": {},
     "output_type": "execute_result"
    },
    {
     "data": {
      "image/png": "[encoded data removed]",
      "text/plain": [
       "<Figure size 600x300 with 2 Axes>"
      ]
     },
     "metadata": {},
     "output_type": "display_data"
    }
   ],
   "source": [
    "plt.figure(figsize=(6,3))\n",
    "sns.heatmap(corr_matrix, annot=True, cmap=\"coolwarm\", fmt=\".2f\", linewidth=0.5)  #no sirve para columnas categoricas"
   ]
  },
  {
   "cell_type": "code",
   "execution_count": 147,
   "id": "34497f12-5046-4313-a2a2-07eefc452bf4",
   "metadata": {},
   "outputs": [
    {
     "data": {
      "text/plain": [
       "<Axes: >"
      ]
     },
     "execution_count": 147,
     "metadata": {},
     "output_type": "execute_result"
    },
    {
     "data": {
      "image/png": "[encoded data removed]",
      "text/plain": [
       "<Figure size 600x300 with 2 Axes>"
      ]
     },
     "metadata": {},
     "output_type": "display_data"
    }
   ],
   "source": [
    "plt.figure(figsize=(6,3))\n",
    "sns.heatmap(corr_matrix2, annot=True, cmap=\"coolwarm\", fmt=\".2f\", linewidth=0.5)  #no sirve para columnas categoricas"
   ]
  },
  {
   "cell_type": "code",
   "execution_count": null,
   "id": "b1e58896-a465-4de5-8b59-7fbce900be61",
   "metadata": {},
   "outputs": [],
   "source": []
  }
 ],
 "metadata": {
  "kernelspec": {
   "display_name": "Python 3 (ipykernel)",
   "language": "python",
   "name": "python3"
  },
  "language_info": {
   "codemirror_mode": {
    "name": "ipython",
    "version": 3
   },
   "file_extension": ".py",
   "mimetype": "text/x-python",
   "name": "python",
   "nbconvert_exporter": "python",
   "pygments_lexer": "ipython3",
   "version": "3.12.7"
  }
 },
 "nbformat": 4,
 "nbformat_minor": 5
}
