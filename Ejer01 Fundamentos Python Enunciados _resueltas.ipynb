{
 "cells": [
  {
   "cell_type": "markdown",
   "id": "05f5f675-97b2-47c8-bf96-2ca0928f34fb",
   "metadata": {},
   "source": [
    "# Ejercicios de Python - Fundamentos"
   ]
  },
  {
   "cell_type": "markdown",
   "id": "16b95f14-dc7a-4f89-88d7-a7286514a522",
   "metadata": {},
   "source": [
    "## 1. Variables y Tipos de Datos"
   ]
  },
  {
   "cell_type": "markdown",
   "id": "7442480e-3415-4191-8fac-a7b24516c863",
   "metadata": {},
   "source": [
    "1. Crea una variable que almacene tu nombre y otra tu edad. Imprime ambas variables."
   ]
  },
  {
   "cell_type": "code",
   "execution_count": 1,
   "id": "deab2cea-5cfc-445c-b09a-4b4016848d2f",
   "metadata": {},
   "outputs": [
    {
     "name": "stdout",
     "output_type": "stream",
     "text": [
      "Julio\n"
     ]
    }
   ],
   "source": [
    "x = \"Julio\"\n",
    "print(x)"
   ]
  },
  {
   "cell_type": "markdown",
   "id": "b5d8694c-cead-4881-bde1-e80b3626bc92",
   "metadata": {},
   "source": [
    "2. Declara una variable con un número decimal y otra con un entero. Realiza una operación de suma entre ellas."
   ]
  },
  {
   "cell_type": "code",
   "execution_count": 3,
   "id": "1f63c6db-2166-4b13-a790-d85f35c8dbdb",
   "metadata": {},
   "outputs": [
    {
     "name": "stdout",
     "output_type": "stream",
     "text": [
      "7.5\n"
     ]
    }
   ],
   "source": [
    "x = 2.5\n",
    "y = 5\n",
    "print(x + y)"
   ]
  },
  {
   "cell_type": "markdown",
   "id": "2025fda0-8eb6-49f3-8ca5-6f652f049fdf",
   "metadata": {},
   "source": [
    "3. Convierte una cadena de texto que represente un número entero en un número entero real."
   ]
  },
  {
   "cell_type": "code",
   "execution_count": 5,
   "id": "094c4acb-b47d-4ff6-a317-e36f8023c022",
   "metadata": {},
   "outputs": [
    {
     "name": "stdout",
     "output_type": "stream",
     "text": [
      "100\n"
     ]
    }
   ],
   "source": [
    "x = \"100\"\n",
    "y = int(x)\n",
    "print(x)"
   ]
  },
  {
   "cell_type": "markdown",
   "id": "5d43ca0b-5671-427a-b2b4-615b2ae997a2",
   "metadata": {},
   "source": [
    "4. Muestra el tipo de la variable que has creado en el ejercicio anterior."
   ]
  },
  {
   "cell_type": "code",
   "execution_count": 9,
   "id": "486e86dd-f496-40ea-a345-79f6b09e7d20",
   "metadata": {},
   "outputs": [
    {
     "name": "stdout",
     "output_type": "stream",
     "text": [
      "<class 'int'>\n"
     ]
    }
   ],
   "source": [
    "print(type(y))"
   ]
  },
  {
   "cell_type": "markdown",
   "id": "b74a97bd-c848-4f8d-8583-9bac3af81bde",
   "metadata": {},
   "source": [
    "5. Crea una variable booleana y cambia su valor de `True` a `False` y viceversa."
   ]
  },
  {
   "cell_type": "code",
   "execution_count": 13,
   "id": "afae3ce4-879d-480b-a6ce-25ee0d2ee23f",
   "metadata": {},
   "outputs": [
    {
     "name": "stdout",
     "output_type": "stream",
     "text": [
      "<class 'bool'>\n",
      "<class 'bool'>\n"
     ]
    }
   ],
   "source": [
    "x = True\n",
    "print(type(x))\n",
    "x = False\n",
    "print(type(x))"
   ]
  },
  {
   "cell_type": "markdown",
   "id": "26885782-19a1-4c19-a7ab-32eab1b7612c",
   "metadata": {},
   "source": [
    "## 2. Operadores"
   ]
  },
  {
   "cell_type": "markdown",
   "id": "d4025709-5516-49a8-8171-2be23cc6ef76",
   "metadata": {},
   "source": [
    "6. Realiza una operación de suma, resta, multiplicación y división con dos números."
   ]
  },
  {
   "cell_type": "code",
   "execution_count": 19,
   "id": "b2d87974-ebd1-45c5-b4b0-778c058181c0",
   "metadata": {},
   "outputs": [
    {
     "name": "stdout",
     "output_type": "stream",
     "text": [
      "x + y = 12\n",
      "x - y = 2\n",
      "x * y = 35\n",
      "x / y = 1.4\n"
     ]
    }
   ],
   "source": [
    "x = 7\n",
    "y = 5\n",
    "print(f\"x + y =\", x + y)\n",
    "print(f\"x - y =\", x - y)\n",
    "print(f\"x * y =\", x * y)\n",
    "print(f\"x / y =\", x / y)"
   ]
  },
  {
   "cell_type": "markdown",
   "id": "9ccf39e3-03f8-4230-9e36-b77ebafd9cb0",
   "metadata": {},
   "source": [
    "7. Crea una variable y utiliza el operador de módulo para obtener el residuo de una división."
   ]
  },
  {
   "cell_type": "code",
   "execution_count": 39,
   "id": "e5015e85-ea15-4b15-b68e-dd98136a204e",
   "metadata": {},
   "outputs": [
    {
     "name": "stdout",
     "output_type": "stream",
     "text": [
      "El resto de dividir 100 / 7 = 2\n"
     ]
    }
   ],
   "source": [
    "x = 100\n",
    "y = 7\n",
    "z=2\n",
    "print(f\"El resto de dividir {x} / {y} = {x % y}\")"
   ]
  },
  {
   "cell_type": "markdown",
   "id": "ea950551-ad39-408e-b785-c753d55fa1aa",
   "metadata": {},
   "source": [
    "8. Utiliza el operador de incremento (`+=`) para sumar 5 a una variable que empiece en 0."
   ]
  },
  {
   "cell_type": "code",
   "execution_count": 41,
   "id": "02f7c4ad-8939-4155-a331-cfa5cd92af79",
   "metadata": {},
   "outputs": [
    {
     "name": "stdout",
     "output_type": "stream",
     "text": [
      "5\n"
     ]
    }
   ],
   "source": [
    "x = 0\n",
    "x += 5\n",
    "print(x)"
   ]
  },
  {
   "cell_type": "markdown",
   "id": "a14bcb7f-4ed0-4d29-b588-af19250e2034",
   "metadata": {},
   "source": [
    "9. Utiliza el operador de comparación para verificar si dos números son iguales y muestra el resultado."
   ]
  },
  {
   "cell_type": "code",
   "execution_count": 43,
   "id": "b4b492cb-f09a-43d9-97fe-43197a67aa30",
   "metadata": {},
   "outputs": [
    {
     "name": "stdout",
     "output_type": "stream",
     "text": [
      "True\n",
      "False\n"
     ]
    }
   ],
   "source": [
    "x = 25\n",
    "y = 25\n",
    "z = 33\n",
    "print (x == y)\n",
    "print (x == z)"
   ]
  },
  {
   "cell_type": "markdown",
   "id": "361b7651-a1a6-48e4-b5bd-d9df6498a405",
   "metadata": {},
   "source": [
    "10. Usa el operador `and` para verificar si dos condiciones son verdaderas al mismo tiempo."
   ]
  },
  {
   "cell_type": "code",
   "execution_count": 51,
   "id": "5eb22b60-dd9e-42f4-b9a8-2ec893bbc739",
   "metadata": {},
   "outputs": [
    {
     "name": "stdout",
     "output_type": "stream",
     "text": [
      "False\n"
     ]
    }
   ],
   "source": [
    "x = 25\n",
    "y = 25\n",
    "z = 33\n",
    "print((x == y) and (x == z))"
   ]
  },
  {
   "cell_type": "markdown",
   "id": "5329b81f-82dc-4d41-9e87-1d6a476279a8",
   "metadata": {},
   "source": [
    "## 3. Condicionales (`if`, `elif`, `else`)"
   ]
  },
  {
   "cell_type": "markdown",
   "id": "d2541ed6-b78f-4811-89f8-254c8c185cbe",
   "metadata": {},
   "source": [
    "11. Escribe un programa que determine si un número es positivo, negativo o cero."
   ]
  },
  {
   "cell_type": "code",
   "execution_count": 58,
   "id": "333a7beb-0072-42c6-b7d0-7ce35ce28683",
   "metadata": {},
   "outputs": [
    {
     "name": "stdin",
     "output_type": "stream",
     "text": [
      "Numero: 5\n"
     ]
    },
    {
     "name": "stdout",
     "output_type": "stream",
     "text": [
      "positivo\n"
     ]
    },
    {
     "name": "stdin",
     "output_type": "stream",
     "text": [
      "Numero: -3\n"
     ]
    },
    {
     "name": "stdout",
     "output_type": "stream",
     "text": [
      "negativo\n"
     ]
    },
    {
     "name": "stdin",
     "output_type": "stream",
     "text": [
      "Numero: 0\n"
     ]
    },
    {
     "name": "stdout",
     "output_type": "stream",
     "text": [
      "cero\n"
     ]
    }
   ],
   "source": [
    "for y in range(3):\n",
    "    x = int(input(\"Numero:\")\n",
    "    if x > 0:\n",
    "        print(\"positivo\")\n",
    "    elif x < 0:\n",
    "        print(\"negativo\")\n",
    "    else:\n",
    "        print(\"cero\")\n",
    "        "
   ]
  },
  {
   "cell_type": "markdown",
   "id": "05577fad-5998-4cd5-ab7e-0e6ddc5a088d",
   "metadata": {},
   "source": [
    "12. Escribe un programa que pida la edad de una persona y determine si puede votar (mayoría de edad = 18)."
   ]
  },
  {
   "cell_type": "code",
   "execution_count": 64,
   "id": "cd07dfc5-170a-4175-af58-5b683eced4a7",
   "metadata": {},
   "outputs": [
    {
     "name": "stdin",
     "output_type": "stream",
     "text": [
      "Edad: 20\n"
     ]
    },
    {
     "name": "stdout",
     "output_type": "stream",
     "text": [
      "mayor de edad\n"
     ]
    },
    {
     "name": "stdin",
     "output_type": "stream",
     "text": [
      "Edad: 14\n"
     ]
    },
    {
     "name": "stdout",
     "output_type": "stream",
     "text": [
      "menor de edad\n"
     ]
    },
    {
     "name": "stdin",
     "output_type": "stream",
     "text": [
      "Edad: 0\n"
     ]
    },
    {
     "name": "stdout",
     "output_type": "stream",
     "text": [
      "menor de edad\n"
     ]
    }
   ],
   "source": [
    "for y in range(3):\n",
    "    x = int(input(\"Edad:\"))\n",
    "    if x > 18:\n",
    "        print(\"mayor de edad\")\n",
    "    else:\n",
    "        print(\"menor de edad\")"
   ]
  },
  {
   "cell_type": "markdown",
   "id": "622d6f80-fff0-44a3-a30d-f12af2e3bd6e",
   "metadata": {},
   "source": [
    "13. Realiza un programa que verifique si un número es divisible entre 3 y 5."
   ]
  },
  {
   "cell_type": "code",
   "execution_count": 70,
   "id": "bc42bc2f-1f75-4fab-990c-2515c762cfdf",
   "metadata": {},
   "outputs": [
    {
     "name": "stdin",
     "output_type": "stream",
     "text": [
      "Numero: 20\n"
     ]
    },
    {
     "name": "stdout",
     "output_type": "stream",
     "text": [
      "Numero No divisible entre 3 y 5\n"
     ]
    },
    {
     "name": "stdin",
     "output_type": "stream",
     "text": [
      "Numero: 30\n"
     ]
    },
    {
     "name": "stdout",
     "output_type": "stream",
     "text": [
      "Numero divisible entre 3 y 5\n"
     ]
    }
   ],
   "source": [
    "for y in range(2):\n",
    "    x = int(input(\"Numero:\"))\n",
    "    if ((x % 3) == 0 and (x % 5) == 0):\n",
    "        print(\"Numero divisible entre 3 y 5\")\n",
    "    else:\n",
    "        print(\"Numero No divisible entre 3 y 5\")"
   ]
  },
  {
   "cell_type": "markdown",
   "id": "1b97b6aa-6ef4-4e5e-8335-c2cbabec0e68",
   "metadata": {},
   "source": [
    "14. Crea un programa que pida una nota de un estudiante y determine si la calificación es \"A\", \"B\", \"C\" o \"F\" según el puntaje."
   ]
  },
  {
   "cell_type": "code",
   "execution_count": 78,
   "id": "03bd4a82-e52d-45a3-ae87-b24bd466bc55",
   "metadata": {},
   "outputs": [
    {
     "name": "stdin",
     "output_type": "stream",
     "text": [
      "Nota: 9\n"
     ]
    },
    {
     "name": "stdout",
     "output_type": "stream",
     "text": [
      "A\n"
     ]
    },
    {
     "name": "stdin",
     "output_type": "stream",
     "text": [
      "Nota: 7\n"
     ]
    },
    {
     "name": "stdout",
     "output_type": "stream",
     "text": [
      "B\n"
     ]
    },
    {
     "name": "stdin",
     "output_type": "stream",
     "text": [
      "Nota: 5\n"
     ]
    },
    {
     "name": "stdout",
     "output_type": "stream",
     "text": [
      "C\n"
     ]
    },
    {
     "name": "stdin",
     "output_type": "stream",
     "text": [
      "Nota: 3\n"
     ]
    },
    {
     "name": "stdout",
     "output_type": "stream",
     "text": [
      "F\n"
     ]
    }
   ],
   "source": [
    "for y in range(4):\n",
    "    x = int(input(\"Nota:\"))\n",
    "    if x >= 9:\n",
    "        print(\"A\")\n",
    "    elif x >= 7:\n",
    "        print(\"B\")\n",
    "    elif x >= 5:\n",
    "        print(\"C\")\n",
    "    else:\n",
    "        print(\"F\")"
   ]
  },
  {
   "cell_type": "markdown",
   "id": "0c1445d1-f17d-4970-94d9-e4249f948e05",
   "metadata": {},
   "source": [
    "15. Realiza un programa que pida un número e indique si es par o impar."
   ]
  },
  {
   "cell_type": "code",
   "execution_count": 80,
   "id": "2dfec1c9-0660-4be9-aec3-91a0ef91f8cf",
   "metadata": {},
   "outputs": [
    {
     "name": "stdin",
     "output_type": "stream",
     "text": [
      "Numero: 20\n"
     ]
    },
    {
     "name": "stdout",
     "output_type": "stream",
     "text": [
      "Numero par\n"
     ]
    },
    {
     "name": "stdin",
     "output_type": "stream",
     "text": [
      "Numero: 23\n"
     ]
    },
    {
     "name": "stdout",
     "output_type": "stream",
     "text": [
      "Numero impar\n"
     ]
    }
   ],
   "source": [
    "for y in range(2):\n",
    "    x = int(input(\"Numero:\"))\n",
    "    if ((x % 2) == 0):\n",
    "        print(\"Numero par\")\n",
    "    else:\n",
    "        print(\"Numero impar\")"
   ]
  },
  {
   "cell_type": "markdown",
   "id": "fb17b5c9-f848-485c-90b1-0f51bd052eee",
   "metadata": {},
   "source": [
    "## 4. Bucles (`for`, `while`)"
   ]
  },
  {
   "cell_type": "markdown",
   "id": "5bcb8751-922a-4fb9-9f77-051f4247fe16",
   "metadata": {},
   "source": [
    "16. Escribe un programa que imprima los números del 1 al 10 utilizando un bucle `for`."
   ]
  },
  {
   "cell_type": "code",
   "execution_count": 17,
   "id": "7050cfc2-40b1-480b-b8bf-cb4828668bc1",
   "metadata": {},
   "outputs": [
    {
     "name": "stdout",
     "output_type": "stream",
     "text": [
      " 1 2 3 4 5 6 7 8 9 10 11 12 13 14 15 16 17 18 19 20 21 22 23 24 25 26 27 28 29 30 31 32 33 34 35 36 37 38 39 40 41 42 43 44 45 46 47 48 49 50 51 52 53 54 55 56 57 58 59 60 61 62 63 64 65 66 67 68 69 70 71 72 73 74 75 76 77 78 79 80 81 82 83 84 85 86 87 88 89 90 91 92 93 94 95 96 97 98 99 100\n"
     ]
    }
   ],
   "source": [
    "lista = \"\"\n",
    "for x in range(100):\n",
    "    lista = lista + \" \" + str(x + 1)\n",
    "print(lista)"
   ]
  },
  {
   "cell_type": "markdown",
   "id": "21299b0e-d858-4688-bc0b-7442a0c172ba",
   "metadata": {},
   "source": [
    "17. Escribe un programa que imprima los números del 10 al 1 utilizando un bucle `while`."
   ]
  },
  {
   "cell_type": "code",
   "execution_count": 96,
   "id": "77a4e5b6-2df5-46b5-846a-bc0b42e4ad3a",
   "metadata": {},
   "outputs": [
    {
     "name": "stdout",
     "output_type": "stream",
     "text": [
      "10\n",
      "9\n",
      "8\n",
      "7\n",
      "6\n",
      "5\n",
      "4\n",
      "3\n",
      "2\n",
      "1\n"
     ]
    }
   ],
   "source": [
    "x = 10\n",
    "while x > 0:\n",
    "    print(x)\n",
    "    x -=1"
   ]
  },
  {
   "cell_type": "markdown",
   "id": "48cf6840-e26d-4637-83e1-f5e4fc0364ab",
   "metadata": {},
   "source": [
    "18. Crea un programa que calcule la suma de los primeros 100 números naturales."
   ]
  },
  {
   "cell_type": "code",
   "execution_count": 107,
   "id": "2b3ce516-31c1-4566-9cb0-92862f231c0c",
   "metadata": {},
   "outputs": [
    {
     "name": "stdout",
     "output_type": "stream",
     "text": [
      "5050\n"
     ]
    }
   ],
   "source": [
    "suma = 0\n",
    "for x in range(100):\n",
    "    suma += x + 1\n",
    "print(suma)"
   ]
  },
  {
   "cell_type": "markdown",
   "id": "6b93fba3-acfd-4b4a-8f78-5d43786ebd23",
   "metadata": {},
   "source": [
    "19. Escribe un programa que imprima los elementos de una lista utilizando un bucle `for`."
   ]
  },
  {
   "cell_type": "code",
   "execution_count": 129,
   "id": "9c932478-8fb4-4b82-a2f2-0147eeb0b69d",
   "metadata": {},
   "outputs": [
    {
     "name": "stdout",
     "output_type": "stream",
     "text": [
      "<class 'list'>\n",
      "1 2 3 a b c \n"
     ]
    }
   ],
   "source": [
    "lista = [1, 2, 3, 'a', 'b', 'c']\n",
    "print(type(lista))\n",
    "lista_str = \"\"\n",
    "for i in range(len(lista)):\n",
    "    lista_str += str(lista[i]) + \" \"\n",
    "print(lista_str)\n"
   ]
  },
  {
   "cell_type": "markdown",
   "id": "555fd74e-f4ba-469c-9d0c-34c9c6a84b5c",
   "metadata": {},
   "source": [
    "20. Escribe un programa que cuente cuántas veces aparece el número 5 en una lista dada."
   ]
  },
  {
   "cell_type": "code",
   "execution_count": 131,
   "id": "689b148d-7f5a-4f76-99d9-10aa045ea84b",
   "metadata": {},
   "outputs": [
    {
     "data": {
      "text/plain": [
       "3"
      ]
     },
     "execution_count": 131,
     "metadata": {},
     "output_type": "execute_result"
    }
   ],
   "source": [
    "lista = [1, 5, 3, 5, 1, 3, 5, 3, 1]\n",
    "lista.count(5)"
   ]
  },
  {
   "cell_type": "markdown",
   "id": "357dd756-b955-4725-8fa5-92e099a110c4",
   "metadata": {},
   "source": [
    "## 5. Funciones"
   ]
  },
  {
   "cell_type": "markdown",
   "id": "3b2390b0-8efe-44ad-8bfa-94491ef360bc",
   "metadata": {},
   "source": [
    "21. Escribe una función que reciba dos números y devuelva su suma."
   ]
  },
  {
   "cell_type": "code",
   "execution_count": 137,
   "id": "84165466-c9b0-4eb0-9d2d-b19afa936b94",
   "metadata": {},
   "outputs": [
    {
     "data": {
      "text/plain": [
       "5"
      ]
     },
     "execution_count": 137,
     "metadata": {},
     "output_type": "execute_result"
    }
   ],
   "source": [
    "def suma(a , b):\n",
    "    return a + b\n",
    "suma(2,3)"
   ]
  },
  {
   "cell_type": "markdown",
   "id": "bc60d0c6-f82a-481f-bae2-1f210dfae7be",
   "metadata": {},
   "source": [
    "22. Crea una función que reciba una cadena de texto y la imprima en mayúsculas."
   ]
  },
  {
   "cell_type": "code",
   "execution_count": 7,
   "id": "a67b16e6-637c-4f9f-9148-b0c24b718191",
   "metadata": {},
   "outputs": [
    {
     "name": "stdout",
     "output_type": "stream",
     "text": [
      "HOLA, ESTO ES UN EJEMPLO\n"
     ]
    }
   ],
   "source": [
    "def mayusculas(texto):\n",
    "    print(texto.upper())\n",
    "    \n",
    "mayusculas(\"hola, esto es un ejemplo\")"
   ]
  },
  {
   "cell_type": "markdown",
   "id": "371b307d-3d84-4376-9180-848e4994f31f",
   "metadata": {},
   "source": [
    "23. Escribe una función que reciba un número y determine si es un número primo."
   ]
  },
  {
   "cell_type": "code",
   "execution_count": 51,
   "id": "ca8810cb-2b5f-4978-9116-0dbe94c530fa",
   "metadata": {},
   "outputs": [
    {
     "name": "stdin",
     "output_type": "stream",
     "text": [
      "Numero:  17\n"
     ]
    },
    {
     "name": "stdout",
     "output_type": "stream",
     "text": [
      "divisor=1, no se comprueba\n",
      "numero=17 divisor=2 No es divisible\n",
      "numero=17 divisor=3 No es divisible\n",
      "numero=17 divisor=4 No es divisible\n",
      "numero=17 divisor=5 No es divisible\n",
      "numero=17 divisor=6 No es divisible\n",
      "numero=17 divisor=7 No es divisible\n",
      "numero=17 divisor=8 No es divisible\n",
      "numero=17 divisor=9 No es divisible\n",
      "numero=17 divisor=10 No es divisible\n",
      "numero=17 divisor=11 No es divisible\n",
      "numero=17 divisor=12 No es divisible\n",
      "numero=17 divisor=13 No es divisible\n",
      "numero=17 divisor=14 No es divisible\n",
      "numero=17 divisor=15 No es divisible\n",
      "numero=17 divisor=16 No es divisible\n",
      "divisor=17, no se comprueba\n",
      "es Primo\n"
     ]
    }
   ],
   "source": [
    "def esPrimo(numero):\n",
    "    \n",
    "    def esDivisible(n, d):\n",
    "        if ((n % d) == 0):\n",
    "            return True\n",
    "        else:\n",
    "            print(f\"numero={n} divisor={d} No es divisible\")\n",
    "            return False\n",
    "\n",
    "    primo = True\n",
    "    for x in range(numero):\n",
    "        divisor = x+1  #como x empieza en cero, le sumamos uno para calcular el divisor\n",
    "        if (divisor==1 or divisor==numero): #un numero siempre es divisible entre 1 y entre si mismo, saltamos esos dos casos\n",
    "            print(f\"divisor={divisor}, no se comprueba\")\n",
    "            continue\n",
    "        if esDivisible(numero, divisor):\n",
    "            primo = False\n",
    "            print(f\"{numero} es divisible por {divisor}, terminamos el bucle\")\n",
    "            break\n",
    "    return primo          \n",
    "    \n",
    "n = int(input(\"Numero: \"))\n",
    "if esPrimo(n):\n",
    "    print(\"es Primo\")\n",
    "else:\n",
    "    print(\"no es Primo\")"
   ]
  },
  {
   "cell_type": "markdown",
   "id": "1fb0987a-942a-48c3-a5d5-0acee97f6490",
   "metadata": {},
   "source": [
    "24. Crea una función que reciba una lista y devuelva la suma de todos sus elementos."
   ]
  },
  {
   "cell_type": "code",
   "execution_count": 5,
   "id": "1acde5e6-2a1f-408b-9672-372d55dd0884",
   "metadata": {},
   "outputs": [
    {
     "name": "stdout",
     "output_type": "stream",
     "text": [
      "La suma es:  21\n"
     ]
    }
   ],
   "source": [
    "def sumaLista(lista):\n",
    "    suma = 0\n",
    "    for x in lista:\n",
    "        suma = suma + x\n",
    "    print(\"La suma es: \", suma)\n",
    "\n",
    "sumaLista([1,2,3,4,5,6])\n",
    "    "
   ]
  },
  {
   "cell_type": "markdown",
   "id": "236498f6-1532-4745-93e0-1b54d3bdf5f0",
   "metadata": {},
   "source": [
    "25. Escribe una función que reciba un número entero y devuelva el factorial de ese número."
   ]
  },
  {
   "cell_type": "code",
   "execution_count": 7,
   "id": "085b1de8-146d-43ae-a6ee-df7069a658fb",
   "metadata": {},
   "outputs": [
    {
     "name": "stdin",
     "output_type": "stream",
     "text": [
      "Numero:  4\n"
     ]
    },
    {
     "name": "stdout",
     "output_type": "stream",
     "text": [
      "El factorial de {n} es: 24\n"
     ]
    }
   ],
   "source": [
    "def factorial(n):\n",
    "    if n == 0:\n",
    "        return 1\n",
    "    else:\n",
    "        return n * factorial(n-1)\n",
    "n = int(input(\"Numero: \"))\n",
    "if n >= 0:\n",
    "    print(\"El factorial de {n} es:\" ,factorial(n))"
   ]
  },
  {
   "cell_type": "markdown",
   "id": "833e0a5a-594d-4831-aa12-8ce143c3c5f1",
   "metadata": {},
   "source": [
    "## 6. Listas"
   ]
  },
  {
   "cell_type": "markdown",
   "id": "69b967f1-4baa-4361-a096-ba0fe7373b06",
   "metadata": {},
   "source": [
    "26. Crea una lista con 5 números y muestra el número mayor."
   ]
  },
  {
   "cell_type": "code",
   "execution_count": 35,
   "id": "5c2108fb-ac0f-4347-a1f7-f6f2980e3dd3",
   "metadata": {},
   "outputs": [
    {
     "name": "stdout",
     "output_type": "stream",
     "text": [
      "El numero mayor es: 21\n",
      "El numero mayor es: 21\n"
     ]
    }
   ],
   "source": [
    "lista = [5,8,21,3,15]\n",
    "lista.sort(reverse=True)\n",
    "print(\"El numero mayor es:\", lista[0])\n",
    "\n",
    "#otra forma con bucle for\n",
    "lista = [5,8,21,3,15]\n",
    "mayor = 0\n",
    "for x in lista:\n",
    "    if x > mayor:\n",
    "        mayor = x\n",
    "print(\"El numero mayor es:\", mayor) \n"
   ]
  },
  {
   "cell_type": "markdown",
   "id": "b087a45f-5e79-45a3-a657-6c577180b49c",
   "metadata": {},
   "source": [
    "27. Añade un nuevo número a una lista y muestra la lista actualizada."
   ]
  },
  {
   "cell_type": "code",
   "execution_count": 23,
   "id": "ea75601e-ebdc-4eed-89be-b3cfc4bd508d",
   "metadata": {},
   "outputs": [
    {
     "name": "stdout",
     "output_type": "stream",
     "text": [
      "[1, 2, 3, 4, 5]\n",
      "[1, 2, 3, 4, 5, 6]\n"
     ]
    }
   ],
   "source": [
    "lista = [1,2,3,4,5]\n",
    "print(lista)\n",
    "lista.append(6)\n",
    "print(lista)"
   ]
  },
  {
   "cell_type": "markdown",
   "id": "6a931c90-f49c-4e02-bd09-530cc84fff27",
   "metadata": {},
   "source": [
    "28. Elimina un elemento de una lista e imprime la lista sin ese elemento."
   ]
  },
  {
   "cell_type": "code",
   "execution_count": 31,
   "id": "10dacf72-64b1-44bb-b914-5f957095c03a",
   "metadata": {},
   "outputs": [
    {
     "name": "stdout",
     "output_type": "stream",
     "text": [
      "[1, 2, 3, 4, 5]\n",
      "Elemento elimiinado: 5\n",
      "[1, 2, 3, 4]\n"
     ]
    }
   ],
   "source": [
    "lista = [1,2,3,4,5]\n",
    "print(lista)\n",
    "x = lista.pop()\n",
    "print(\"Elemento eliminado:\",x)\n",
    "print(lista)"
   ]
  },
  {
   "cell_type": "markdown",
   "id": "516624a8-8cfb-43f5-9a4d-d07305ffe680",
   "metadata": {},
   "source": [
    "29. Ordena una lista de números de menor a mayor."
   ]
  },
  {
   "cell_type": "code",
   "execution_count": null,
   "id": "2840c164-0963-49cb-8e15-e937b82294ba",
   "metadata": {},
   "outputs": [],
   "source": [
    "lista = [5,8,21,3,15]\n",
    "lista.sort(reverse=True)\n",
    "print(\"El numero mayor es:\", lista[0])"
   ]
  },
  {
   "cell_type": "markdown",
   "id": "ceac913d-a551-4d9d-a5b5-fff348018c17",
   "metadata": {},
   "source": [
    "30. Crea una lista de cadenas y conviértela en una lista de su longitud."
   ]
  },
  {
   "cell_type": "code",
   "execution_count": 55,
   "id": "9ebd6286-6bdf-450a-8d13-68bab13e8389",
   "metadata": {},
   "outputs": [
    {
     "name": "stdout",
     "output_type": "stream",
     "text": [
      "['cero', 'uno', 'dos', 'tres', 'cuatro', 'cinco', 'seis', 'siete', 'ocho', 'nueve']\n",
      "[4, 3, 3, 4, 6, 5, 4, 5, 4, 5]\n"
     ]
    }
   ],
   "source": [
    "lista = [\"cero\", \"uno\", \"dos\", \"tres\", \"cuatro\", \"cinco\", \"seis\", \"siete\", \"ocho\", \"nueve\"]\n",
    "listaLongitud = [None]*10  #crea una lista vacia de 10 posiciones\n",
    "for i in range(len(lista)):\n",
    "    listaLongitud[i] = len(lista[i])\n",
    "print(lista)\n",
    "print(listaLongitud)\n",
    "    "
   ]
  },
  {
   "cell_type": "markdown",
   "id": "741ec628-44a4-443c-8c30-71a16b5d8c83",
   "metadata": {},
   "source": [
    "## 7. Tuplas"
   ]
  },
  {
   "cell_type": "markdown",
   "id": "11e324a6-41ff-4e63-a590-65520daf5689",
   "metadata": {},
   "source": [
    "31. Crea una tupla con 3 elementos y muestra el primer y último elemento."
   ]
  },
  {
   "cell_type": "code",
   "execution_count": 63,
   "id": "8126a7a4-98b4-48e4-868e-0cf630bfe5c9",
   "metadata": {},
   "outputs": [
    {
     "name": "stdout",
     "output_type": "stream",
     "text": [
      "3\n",
      "5\n"
     ]
    }
   ],
   "source": [
    "tupla = (3,4,5)\n",
    "print(tupla[0])\n",
    "print(tupla[len(tupla)-1])"
   ]
  },
  {
   "cell_type": "markdown",
   "id": "2b4ad7f0-b20e-4201-8e2a-e39b46200591",
   "metadata": {},
   "source": [
    "32. Crea una tupla con números y calcula la suma de todos sus elementos."
   ]
  },
  {
   "cell_type": "code",
   "execution_count": 73,
   "id": "df83e687-5106-402f-b1dc-f31b34fa1a9e",
   "metadata": {},
   "outputs": [
    {
     "name": "stdout",
     "output_type": "stream",
     "text": [
      "La suma es:  28\n"
     ]
    }
   ],
   "source": [
    "tupla = (1,2,3,4,5,6,7)\n",
    "suma = 0\n",
    "for x in tupla:\n",
    "    suma = suma + x\n",
    "print(\"La suma es: \", suma)"
   ]
  },
  {
   "cell_type": "markdown",
   "id": "5fdcd5af-df7f-41e7-9bdf-a3d40b219eab",
   "metadata": {},
   "source": [
    "33. Comprueba si un elemento está presente en una tupla."
   ]
  },
  {
   "cell_type": "code",
   "execution_count": 100,
   "id": "ecf41e5a-af25-41fe-86e2-9fa00e3415b3",
   "metadata": {},
   "outputs": [
    {
     "name": "stdin",
     "output_type": "stream",
     "text": [
      "Numero: 5\n"
     ]
    },
    {
     "name": "stdout",
     "output_type": "stream",
     "text": [
      "La tupla contiene el numero  5\n",
      "La tupla contiene el numero  5\n",
      "La tupla contiene el numero  5\n"
     ]
    }
   ],
   "source": [
    "tupla = (1,2,3,4,5,6,7)\n",
    "n = int(input(\"Numero:\"))\n",
    "\n",
    "#usando el operador 'in'\n",
    "if n in tupla:\n",
    "    print(\"La tupla contiene el numero \", n)\n",
    "\n",
    "#usando la funcion 'index'\n",
    "try:\n",
    "    i = tupla.index(n) \n",
    "    existe = True\n",
    "except ValueError:\n",
    "    existe = False  # Si salta una excepcion, el elemento no está\n",
    "if esta:\n",
    "    print(\"La tupla contiene el numero \", n)\n",
    "\n",
    "#usando un bucle for              \n",
    "for x in tupla:\n",
    "    if (x == n):\n",
    "        print(\"La tupla contiene el numero \", n)"
   ]
  },
  {
   "cell_type": "markdown",
   "id": "21a30e7c-bba1-4238-8e0b-a502f0f72c07",
   "metadata": {},
   "source": [
    "34. Convierte una lista en una tupla y viceversa."
   ]
  },
  {
   "cell_type": "code",
   "execution_count": 109,
   "id": "b6010160-1cfc-4910-831d-846b1031645b",
   "metadata": {},
   "outputs": [
    {
     "name": "stdout",
     "output_type": "stream",
     "text": [
      "(1, 2, 3, 4, 5, 6, 7)\n",
      "<class 'tuple'>\n",
      "[1, 2, 3, 4, 5, 6, 7, 8, 9]\n",
      "<class 'list'>\n"
     ]
    }
   ],
   "source": [
    "lista = [1,2,3,4,5,6,7]\n",
    "tupla = tuple(lista)\n",
    "print(tupla)\n",
    "print(type(tupla))\n",
    "###\n",
    "tupla = (1,2,3,4,5,6,7,8,9)\n",
    "lista = list(tupla)\n",
    "print(lista)\n",
    "print(type(lista))"
   ]
  },
  {
   "cell_type": "markdown",
   "id": "82137d5b-920f-443e-aa53-a53bb45ed954",
   "metadata": {},
   "source": [
    "35. Crea una tupla de tuplas y accede a un elemento dentro de una tupla interna."
   ]
  },
  {
   "cell_type": "code",
   "execution_count": 3,
   "id": "0f07c3cd-5f74-4b4e-b0de-27e59d7bc932",
   "metadata": {},
   "outputs": [
    {
     "name": "stdout",
     "output_type": "stream",
     "text": [
      "hola\n"
     ]
    }
   ],
   "source": [
    "tupla = ((1,2,3),('a','b','c'),(\"hola\", 34, 12.57))\n",
    "print(tupla[2][0])  #primer elemento de la tercera tupla\n"
   ]
  },
  {
   "cell_type": "markdown",
   "id": "685ba1eb-5394-41ca-9b91-769af150c366",
   "metadata": {},
   "source": [
    "## 8. Diccionarios"
   ]
  },
  {
   "cell_type": "markdown",
   "id": "ad514dc4-dc68-440d-a499-697ee8c00847",
   "metadata": {},
   "source": [
    "36. Crea un diccionario con nombres como claves y edades como valores. Imprime el diccionario."
   ]
  },
  {
   "cell_type": "code",
   "execution_count": 13,
   "id": "c5d14274-d037-4b25-ad07-0e0dac9fdc11",
   "metadata": {},
   "outputs": [
    {
     "name": "stdout",
     "output_type": "stream",
     "text": [
      "clave: Juan  valor: 19\n",
      "clave: Pepe  valor: 21\n",
      "clave: Andrés  valor: 32\n"
     ]
    }
   ],
   "source": [
    "dic = {'Juan' : 19, 'Pepe' : 21, 'Andrés' : 32}\n",
    "for clave, valor in dic.items():\n",
    "    print(f\"clave: {clave}  valor: {valor}\")\n",
    "#Se puede hacer directamente con print(dic) pero de la forma anterior se ve el acceso a los elementos individuales desde un bucle"
   ]
  },
  {
   "cell_type": "markdown",
   "id": "74716e11-0cd8-41bb-9ce5-76e536834e1c",
   "metadata": {},
   "source": [
    "37. Añade un nuevo par clave-valor al diccionario e imprime el resultado."
   ]
  },
  {
   "cell_type": "code",
   "execution_count": 35,
   "id": "2aca256d-9db7-4be8-a027-2effb0df84b7",
   "metadata": {},
   "outputs": [
    {
     "name": "stdout",
     "output_type": "stream",
     "text": [
      "{'Juan': 19, 'Pepe': 21, 'Andrés': 32, 'Javier': 12}\n"
     ]
    }
   ],
   "source": [
    "#print(dir(dict))\n",
    "dic.update({'Javier':12})\n",
    "print(dic)      "
   ]
  },
  {
   "cell_type": "markdown",
   "id": "314ce9d1-7f63-4862-bf3d-784f2075910b",
   "metadata": {},
   "source": [
    "38. Elimina una clave del diccionario e imprime el resultado."
   ]
  },
  {
   "cell_type": "code",
   "execution_count": 39,
   "id": "504dea86-45d3-4079-8011-d3cd83b09f3f",
   "metadata": {},
   "outputs": [
    {
     "name": "stdout",
     "output_type": "stream",
     "text": [
      "('Javier', 12)\n",
      "{'Juan': 19, 'Pepe': 21, 'Andrés': 32}\n"
     ]
    }
   ],
   "source": [
    "x = dic.popitem()\n",
    "print(x)\n",
    "print(dic)"
   ]
  },
  {
   "cell_type": "markdown",
   "id": "8eb7fb1d-52de-4fd1-8539-d61dd1bb56cf",
   "metadata": {},
   "source": [
    "39. Verifica si una clave existe en un diccionario."
   ]
  },
  {
   "cell_type": "code",
   "execution_count": 51,
   "id": "59ce2e14-a9b8-4b8f-ae3d-598186b6621e",
   "metadata": {},
   "outputs": [
    {
     "name": "stdout",
     "output_type": "stream",
     "text": [
      "Si está\n"
     ]
    }
   ],
   "source": [
    "if 'Juan' in dic.keys():\n",
    "    print(\"Si está\")\n",
    "else:\n",
    "    print(\"No está\")"
   ]
  },
  {
   "cell_type": "markdown",
   "id": "93a22199-f3ef-4042-afc1-1269f18c9ab8",
   "metadata": {},
   "source": [
    "40. Crea un diccionario con los días de la semana como claves y las temperaturas como valores. Encuentra la temperatura más alta."
   ]
  },
  {
   "cell_type": "code",
   "execution_count": 113,
   "id": "faa561df-3b4e-4e8d-8dc2-29fd94a24d3d",
   "metadata": {},
   "outputs": [
    {
     "name": "stdout",
     "output_type": "stream",
     "text": [
      "<class 'list'>\n",
      "[32, 32, 28, 21, 21, 19, 15]\n",
      "El numero mayor es:  32\n"
     ]
    }
   ],
   "source": [
    "dic = {'lunes' : 19, 'martes' : 21, 'miercoles' : 32, 'jueves' : 15, 'viernes' : 21, 'sabado' : 32, 'domingo' : 28}\n",
    "print(type(list(dic.values())))\n",
    "lista = list(dic.values())\n",
    "lista.sort(reverse=True)\n",
    "print(lista)\n",
    "print(\"El numero mayor es: \", lista[0])\n"
   ]
  },
  {
   "cell_type": "markdown",
   "id": "3919c3d6-cca9-4d4b-b40f-32c9ccfe3d45",
   "metadata": {},
   "source": [
    "## 9. Excepciones (`try`, `except`)"
   ]
  },
  {
   "cell_type": "markdown",
   "id": "1790ee6a-d540-4ed7-88f2-fbb4f38cce82",
   "metadata": {},
   "source": [
    "41. Escribe un programa que pida al usuario un número y divídelo por 0, manejando la excepción de división por cero."
   ]
  },
  {
   "cell_type": "code",
   "execution_count": 3,
   "id": "b8df648a-b93d-4db2-892a-da5a84bcfa4c",
   "metadata": {},
   "outputs": [
    {
     "name": "stdin",
     "output_type": "stream",
     "text": [
      "Número:  4\n"
     ]
    },
    {
     "name": "stdout",
     "output_type": "stream",
     "text": [
      "Error, division por cero!\n"
     ]
    }
   ],
   "source": [
    "n = int(input(\"Número: \"))\n",
    "try:\n",
    "    y = n / 0\n",
    "except ZeroDivisionError:\n",
    "    print(\"Error, division por cero!\")"
   ]
  },
  {
   "cell_type": "markdown",
   "id": "38cf391f-3389-4f2f-9c39-0f3a10455b24",
   "metadata": {},
   "source": [
    "42. Crea un programa que reciba un valor del usuario y maneje el error si el valor no es un número entero."
   ]
  },
  {
   "cell_type": "code",
   "execution_count": 13,
   "id": "e41350b2-07f1-476a-916e-c4677d99252d",
   "metadata": {},
   "outputs": [
    {
     "name": "stdin",
     "output_type": "stream",
     "text": [
      "Número:  abc\n"
     ]
    },
    {
     "name": "stdout",
     "output_type": "stream",
     "text": [
      "El valor introducido no es un número entero!\n"
     ]
    }
   ],
   "source": [
    "try:\n",
    "    n = int(input(\"Número: \"))\n",
    "except ValueError:\n",
    "    print(\"El valor introducido no es un número entero!\")"
   ]
  },
  {
   "cell_type": "markdown",
   "id": "b8142b29-7bdc-4d9c-9ad7-10ed6522610d",
   "metadata": {},
   "source": [
    "43. Realiza un programa que intente abrir un archivo y maneje la excepción si el archivo no existe."
   ]
  },
  {
   "cell_type": "code",
   "execution_count": 15,
   "id": "4a35d1ac-4058-4d38-902d-7ec7aa7535c9",
   "metadata": {},
   "outputs": [
    {
     "name": "stdout",
     "output_type": "stream",
     "text": [
      "El fichero no existe!\n"
     ]
    }
   ],
   "source": [
    "try:\n",
    "    fichero = open('ejemplo.txt')\n",
    "except FileNotFoundError:\n",
    "    print(\"El fichero no existe!\")\n"
   ]
  },
  {
   "cell_type": "markdown",
   "id": "dacb4478-e547-4514-97b5-7106bfcb35ce",
   "metadata": {},
   "source": [
    "44. Crea un programa que maneje un error si un índice de una lista está fuera de rango."
   ]
  },
  {
   "cell_type": "code",
   "execution_count": 19,
   "id": "52141700-b12d-4166-aaae-5390833ed800",
   "metadata": {},
   "outputs": [
    {
     "name": "stdout",
     "output_type": "stream",
     "text": [
      "Error: Indice fuera de rango!\n"
     ]
    }
   ],
   "source": [
    "try:\n",
    "    lista = [1,2,3,4,5]\n",
    "    x = lista[10]\n",
    "except IndexError:\n",
    "    print(\"Error: Indice fuera de rango!\")"
   ]
  },
  {
   "cell_type": "markdown",
   "id": "709c3dc1-8829-4297-98a9-7d1620e50e34",
   "metadata": {},
   "source": [
    "45. Escribe un programa que realice una operación aritmética y capture cualquier excepción que pueda ocurrir."
   ]
  },
  {
   "cell_type": "code",
   "execution_count": 25,
   "id": "3ad83450-edf7-4eeb-8ae6-76b39384b2a2",
   "metadata": {},
   "outputs": [
    {
     "name": "stdin",
     "output_type": "stream",
     "text": [
      "Número:  \n"
     ]
    },
    {
     "name": "stdout",
     "output_type": "stream",
     "text": [
      "Valor introducido no válido!\n"
     ]
    }
   ],
   "source": [
    "try:\n",
    "    n = int(input(\"Número: \"))\n",
    "    y = n / 0\n",
    "except ZeroDivisionError:\n",
    "    print(\"Error, division por cero!\")\n",
    "except ValueError:\n",
    "    print(\"Valor introducido no válido!\")"
   ]
  },
  {
   "cell_type": "markdown",
   "id": "cbac2840-fca9-48b6-81d6-6fca782e0b72",
   "metadata": {},
   "source": [
    "## 10. Comprensiones de listas"
   ]
  },
  {
   "cell_type": "markdown",
   "id": "aae3677b-ea95-414a-803e-7309523494cd",
   "metadata": {},
   "source": [
    "46. Usa una comprensión de lista para crear una lista con los cuadrados de los números del 1 al 10."
   ]
  },
  {
   "cell_type": "code",
   "execution_count": 11,
   "id": "8fc44486-b6c2-4b35-8112-d5eadead31c3",
   "metadata": {},
   "outputs": [
    {
     "name": "stdout",
     "output_type": "stream",
     "text": [
      "[1, 4, 9, 16, 25, 36, 49, 64, 81, 100]\n"
     ]
    }
   ],
   "source": [
    "lista = [1,2,3,4,5,6,7,8,9,10]\n",
    "lista2 = [n**2 for n in lista]\n",
    "print(lista2)"
   ]
  },
  {
   "cell_type": "markdown",
   "id": "f2a52702-1eae-4bef-894a-9877a52a0540",
   "metadata": {},
   "source": [
    "47. Usa una comprensión de lista para filtrar los números pares de una lista."
   ]
  },
  {
   "cell_type": "code",
   "execution_count": 15,
   "id": "daddf065-850c-4b07-bc28-8b8dc7291b6d",
   "metadata": {},
   "outputs": [
    {
     "name": "stdout",
     "output_type": "stream",
     "text": [
      "[1, 3, 5, 7, 9]\n"
     ]
    }
   ],
   "source": [
    "lista = [1,2,3,4,5,6,7,8,9,10]\n",
    "lista2 = [n for n in lista if (n % 2 != 0)]\n",
    "print(lista2)"
   ]
  },
  {
   "cell_type": "markdown",
   "id": "f358878a-120d-46c0-a275-9879ea73489f",
   "metadata": {},
   "source": [
    "48. Usa una comprensión de lista para crear una lista con las longitudes de las palabras en una lista de cadenas."
   ]
  },
  {
   "cell_type": "code",
   "execution_count": 20,
   "id": "0597d84f-e9b3-42d5-9be8-0d0a3c5b696e",
   "metadata": {},
   "outputs": [
    {
     "name": "stdout",
     "output_type": "stream",
     "text": [
      "[4, 3, 3, 4, 6, 5, 4, 5, 4, 5]\n"
     ]
    }
   ],
   "source": [
    "lista = [\"cero\", \"uno\", \"dos\", \"tres\", \"cuatro\", \"cinco\", \"seis\", \"siete\", \"ocho\", \"nueve\"]\n",
    "lista2 = [len(x) for x in lista]\n",
    "print(lista2)"
   ]
  },
  {
   "cell_type": "markdown",
   "id": "1a98d740-16bd-42af-bbb1-fe7ab115f02d",
   "metadata": {},
   "source": [
    "49. Usa una comprensión de lista para crear una lista de cadenas que contienen la letra \"a\" de una lista de palabras."
   ]
  },
  {
   "cell_type": "code",
   "execution_count": 5,
   "id": "935b4695-f57c-434a-bb9a-aa72796712d3",
   "metadata": {},
   "outputs": [
    {
     "name": "stdout",
     "output_type": "stream",
     "text": [
      "['martes', 'sabado']\n"
     ]
    }
   ],
   "source": [
    "lista = [\"lunes\", \"martes\", \"miercoles\", \"jueves\", \"viernes\", \"sabado\", \"domingo\"]\n",
    "lista2 = [x for x in lista if 'a' in x]\n",
    "print(lista2)"
   ]
  },
  {
   "cell_type": "markdown",
   "id": "7d5dac92-8bd9-4685-96fc-350f46423a99",
   "metadata": {},
   "source": [
    "50. Usa una comprensión de lista para convertir una lista de números en una lista de cadenas."
   ]
  },
  {
   "cell_type": "code",
   "execution_count": 7,
   "id": "5d89f8ce-a62c-4929-bdd9-36eb94ed03c8",
   "metadata": {},
   "outputs": [
    {
     "name": "stdout",
     "output_type": "stream",
     "text": [
      "['1', '2', '3', '4', '5', '6', '7', '8', '9', '0']\n",
      "['uno', 'dos', 'tres', 'cuatro', 'cinco', 'seis', 'siete', 'ocho', 'nueve', 'cero']\n"
     ]
    }
   ],
   "source": [
    "lista = [1,2,3,4,5,6,7,8,9,0]\n",
    "lista2 = [str(x) for x in lista]\n",
    "print(lista2)\n",
    "\n",
    "#otra forma con una funcion\n",
    "def numero_a_cadena(numero):\n",
    "    if numero == 0:\n",
    "        return 'cero'\n",
    "    elif numero == 1:\n",
    "        return 'uno'\n",
    "    elif numero == 2:\n",
    "        return 'dos'\n",
    "    elif numero == 3:\n",
    "        return 'tres'\n",
    "    elif numero == 4:\n",
    "        return 'cuatro'\n",
    "    elif numero == 5:\n",
    "        return 'cinco'\n",
    "    elif numero == 6:\n",
    "        return 'seis'\n",
    "    elif numero == 7:\n",
    "        return 'siete'\n",
    "    elif numero == 8:\n",
    "        return 'ocho'\n",
    "    elif numero == 9:\n",
    "        return 'nueve'\n",
    "\n",
    "lista2 = [numero_a_cadena(x) for x in lista]\n",
    "print(lista2)"
   ]
  },
  {
   "cell_type": "markdown",
   "id": "92bdbe02-3e96-4ddc-b0c4-4d438814af58",
   "metadata": {},
   "source": [
    "## 11. Conjuntos"
   ]
  },
  {
   "cell_type": "markdown",
   "id": "8fee8ce7-b8ec-4eb9-afc2-371f1cf3ac5d",
   "metadata": {},
   "source": [
    "51. Dado el siguiente par de conjuntos: set_1 = {2, 4, 6, 8} set_2 = {1, 2, 3, 4} \n",
    "    Escribe un código que calcule la unión de ambos conjuntos y la imprima."
   ]
  },
  {
   "cell_type": "code",
   "execution_count": 86,
   "id": "d4aa1c1e-18fd-49f0-bb8d-abd5f462ecb2",
   "metadata": {},
   "outputs": [
    {
     "name": "stdout",
     "output_type": "stream",
     "text": [
      "{1, 2, 3, 4, 6, 8}\n",
      "{1, 2, 3, 4, 6, 8}\n"
     ]
    }
   ],
   "source": [
    "set_1 = {2, 4, 6, 8}\n",
    "set_2 = {1, 2, 3, 4}\n",
    "set_3 = set_1.union(set_2)\n",
    "print(set_3)\n",
    "\n",
    "#otra forma\n",
    "set_3 = set_1 | set_2\n",
    "print(set_3)"
   ]
  },
  {
   "cell_type": "markdown",
   "id": "44de2ac9-fb6f-432b-9b24-16d493a995a2",
   "metadata": {},
   "source": [
    "52. Dado el siguiente par de conjuntos: set_1 = {10, 20, 30, 40} set_2 = {30, 40, 50, 60}\n",
    "    Escribe un código que calcule la diferencia simétrica entre ambos conjuntos (elementos que están en uno u otro conjunto, pero no en ambos)\n",
    "    y la imprima."
   ]
  },
  {
   "cell_type": "code",
   "execution_count": 152,
   "id": "08ab99f1-6c68-440e-b6b7-0fdeee25814a",
   "metadata": {},
   "outputs": [
    {
     "name": "stdout",
     "output_type": "stream",
     "text": [
      "diferencia simétrica =  {10, 20, 50, 60}\n",
      "Interseccion = {40, 30}\n",
      "diferencia simétrica =  {10, 20, 50, 60}\n"
     ]
    }
   ],
   "source": [
    "set_1 = {10, 20, 30, 40}\n",
    "set_2 = {30, 40, 50, 60}\n",
    "set_3 = set_1.symmetric_difference(set_2)\n",
    "print(\"diferencia simétrica = \",set_4)\n",
    "\n",
    "#otra forma\n",
    "set_3 = set_1.intersection(set_2)\n",
    "print(\"Interseccion =\", set_3)\n",
    "\n",
    "set_4 = set_1.difference(set_3).union(set_2.difference(set_3))\n",
    "print(\"diferencia simétrica = \",set_4)"
   ]
  },
  {
   "cell_type": "markdown",
   "id": "402579dd-8eae-40c8-8d78-0df5a36fa753",
   "metadata": {},
   "source": [
    "53. Dado el siguiente par de conjuntos: set_1 = {1, 2, 3, 4, 5}  set_2 = {2, 3, 4}\n",
    "    Escribe un código que determine si set_2 es un subconjunto de set_1. Imprime el resultado como `True` o `False`."
   ]
  },
  {
   "cell_type": "code",
   "execution_count": 156,
   "id": "b80629e3-9ffa-479d-9f66-ce419ccb2226",
   "metadata": {},
   "outputs": [
    {
     "name": "stdout",
     "output_type": "stream",
     "text": [
      "True\n",
      "True\n"
     ]
    }
   ],
   "source": [
    "set_1 = {1, 2, 3, 4, 5}\n",
    "set_2 = {2, 3, 4}\n",
    "print(set_2.issubset(set_1))\n",
    "\n",
    "#otra forma\n",
    "set_3 = set_2.difference(set_1)\n",
    "print(len(set_3) == 0)"
   ]
  },
  {
   "cell_type": "code",
   "execution_count": 158,
   "id": "a6d711c9-0963-4a4b-bf01-2929f9d70a72",
   "metadata": {},
   "outputs": [
    {
     "name": "stdout",
     "output_type": "stream",
     "text": [
      "False\n",
      "False\n"
     ]
    }
   ],
   "source": [
    "set_1 = {1, 2, 3, 4, 5}\n",
    "set_2 = {2, 3, 4, 7}\n",
    "print(set_2.issubset(set_1))\n",
    "\n",
    "#otra forma\n",
    "set_3 = set_2.difference(set_1)\n",
    "print(len(set_3) == 0)"
   ]
  },
  {
   "cell_type": "markdown",
   "id": "36230f90-7332-45ce-a25b-cd37c7a2f80e",
   "metadata": {},
   "source": [
    "54. Dada la siguiente lista: numeros = [7, 8, 8, 10, 7, 12, 15, 15, 17, 17]\n",
    "    Convierte la lista en un conjunto para eliminar los elementos duplicados, y luego convierte el conjunto nuevamente a una lista. \n",
    "    Imprime la lista sin duplicados."
   ]
  },
  {
   "cell_type": "code",
   "execution_count": 130,
   "id": "64ac415b-57e3-4a1e-8e8d-e05c71f428bc",
   "metadata": {},
   "outputs": [
    {
     "name": "stdout",
     "output_type": "stream",
     "text": [
      "{7, 8, 10, 12, 15, 17}\n",
      "<class 'set'>\n",
      "[7, 8, 10, 12, 15, 17]\n",
      "<class 'list'>\n"
     ]
    }
   ],
   "source": [
    "numeros = [7, 8, 8, 10, 7, 12, 15, 15, 17, 17]\n",
    "set1 = set(numeros)\n",
    "print(set1)\n",
    "print(type(set1))\n",
    "lista = list(set1)\n",
    "print(lista)\n",
    "print(type(lista))"
   ]
  },
  {
   "cell_type": "markdown",
   "id": "e999d9df-6cc4-4ced-bbb2-44ce16a15c78",
   "metadata": {},
   "source": [
    "55. Dado el siguiente par de conjuntos: set_1 = {5, 10, 15, 20}  set_2 = {10, 20, 30, 40}\n",
    "    Escribe un código que calcule la intersección de ambos conjuntos y la imprima."
   ]
  },
  {
   "cell_type": "code",
   "execution_count": 160,
   "id": "f06e7838-31e9-4eea-b8d5-739bc32f5807",
   "metadata": {},
   "outputs": [
    {
     "name": "stdout",
     "output_type": "stream",
     "text": [
      "Interseccion = {10, 20}\n"
     ]
    }
   ],
   "source": [
    "set_1 = {5, 10, 15, 20}\n",
    "set_2 = {10, 20, 30, 40}\n",
    "set_3 = set_1.intersection(set_2)\n",
    "print(\"Interseccion =\", set_3)"
   ]
  },
  {
   "cell_type": "code",
   "execution_count": null,
   "id": "7a79683f-5f46-45a3-8d5c-addf137e8c5b",
   "metadata": {},
   "outputs": [],
   "source": []
  }
 ],
 "metadata": {
  "kernelspec": {
   "display_name": "Python 3 (ipykernel)",
   "language": "python",
   "name": "python3"
  },
  "language_info": {
   "codemirror_mode": {
    "name": "ipython",
    "version": 3
   },
   "file_extension": ".py",
   "mimetype": "text/x-python",
   "name": "python",
   "nbconvert_exporter": "python",
   "pygments_lexer": "ipython3",
   "version": "3.12.7"
  }
 },
 "nbformat": 4,
 "nbformat_minor": 5
}
